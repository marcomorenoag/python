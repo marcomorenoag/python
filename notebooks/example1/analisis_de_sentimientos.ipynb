{
 "cells": [
  {
   "cell_type": "markdown",
   "id": "665a792e",
   "metadata": {},
   "source": [
    "# Análisis de Sentimientos en Español\n",
    "## Utilizando un modelo previamente entrenado con Naive Bayes\n",
    "En este cuaderno se especifica la implementación de un análisis de sentimientos con un modelo pre-entrenado que utiliza por detrás Naive Bayes y TFIDF para el procesamiento del texto. Hecho por Elliot Hofman: [REFERENCIA](https://github.com/aylliote/senti-py)"
   ]
  },
  {
   "cell_type": "code",
   "execution_count": 1,
   "id": "8d770f67",
   "metadata": {},
   "outputs": [
    {
     "name": "stderr",
     "output_type": "stream",
     "text": [
      "/Users/marcomoreno/.local/share/virtualenvs/python-EoxHJQOi/lib/python3.7/site-packages/sklearn/feature_extraction/image.py:167: DeprecationWarning: `np.int` is a deprecated alias for the builtin `int`. To silence this warning, use `int` by itself. Doing this will not modify any behavior and is safe. When replacing `np.int`, you may wish to use e.g. `np.int64` or `np.int32` to specify the precision. If you wish to review your current use, check the release note link for additional information.\n",
      "Deprecated in NumPy 1.20; for more details and guidance: https://numpy.org/devdocs/release/1.20.0-notes.html#deprecations\n",
      "  dtype=np.int):\n",
      "/Users/marcomoreno/.local/share/virtualenvs/python-EoxHJQOi/lib/python3.7/site-packages/sklearn/feature_extraction/text.py:17: DeprecationWarning: Using or importing the ABCs from 'collections' instead of from 'collections.abc' is deprecated since Python 3.3,and in 3.9 it will stop working\n",
      "  from collections import Mapping, defaultdict\n"
     ]
    },
    {
     "name": "stdout",
     "output_type": "stream",
     "text": [
      "Will download some functions from the nltk package if not found on the computer\n"
     ]
    },
    {
     "name": "stderr",
     "output_type": "stream",
     "text": [
      "[nltk_data] Downloading package punkt to\n",
      "[nltk_data]     /Users/marcomoreno/nltk_data...\n",
      "[nltk_data]   Unzipping tokenizers/punkt.zip.\n"
     ]
    }
   ],
   "source": [
    "# Importar la biblioteca\n",
    "from classifier import SentimentClassifier\n",
    "\n",
    "# Instanciar el clasificador, esto puede demorar un poco\n",
    "clf = SentimentClassifier()"
   ]
  },
  {
   "cell_type": "markdown",
   "id": "7fa8387a",
   "metadata": {},
   "source": [
    "Ejecutaremos 3 ejemplos. Uno de un mensaje positivo, un mensaje negativo y otro mensaje neutral. Y veremos como la biblioteca detecta la polaridad de cada uno de estos "
   ]
  },
  {
   "cell_type": "code",
   "execution_count": 2,
   "id": "3bc086e9",
   "metadata": {},
   "outputs": [],
   "source": [
    "positivo = \"Está muy buena esa pelicula\"\n",
    "negativo = \"Qué horrible comida!\"\n",
    "neutro = \"Tuve una experiencia neutral\""
   ]
  },
  {
   "cell_type": "code",
   "execution_count": 4,
   "id": "fa3527ed",
   "metadata": {},
   "outputs": [
    {
     "data": {
      "text/plain": [
       "0.9313572043117736"
      ]
     },
     "execution_count": 4,
     "metadata": {},
     "output_type": "execute_result"
    }
   ],
   "source": [
    "clf.predict(positivo)"
   ]
  },
  {
   "cell_type": "code",
   "execution_count": 6,
   "id": "e659b829",
   "metadata": {},
   "outputs": [
    {
     "data": {
      "text/plain": [
       "0.18977003153347247"
      ]
     },
     "execution_count": 6,
     "metadata": {},
     "output_type": "execute_result"
    }
   ],
   "source": [
    "clf.predict(negativo)"
   ]
  },
  {
   "cell_type": "code",
   "execution_count": 7,
   "id": "c43e068a",
   "metadata": {},
   "outputs": [
    {
     "data": {
      "text/plain": [
       "0.24508604721058735"
      ]
     },
     "execution_count": 7,
     "metadata": {},
     "output_type": "execute_result"
    }
   ],
   "source": [
    "clf.predict(neutro)"
   ]
  },
  {
   "cell_type": "code",
   "execution_count": null,
   "id": "476c0d49",
   "metadata": {},
   "outputs": [],
   "source": []
  }
 ],
 "metadata": {
  "kernelspec": {
   "display_name": "Python 3 (ipykernel)",
   "language": "python",
   "name": "python3"
  },
  "language_info": {
   "codemirror_mode": {
    "name": "ipython",
    "version": 3
   },
   "file_extension": ".py",
   "mimetype": "text/x-python",
   "name": "python",
   "nbconvert_exporter": "python",
   "pygments_lexer": "ipython3",
   "version": "3.7.8"
  }
 },
 "nbformat": 4,
 "nbformat_minor": 5
}
